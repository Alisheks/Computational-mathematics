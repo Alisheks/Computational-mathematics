{
 "cells": [
  {
   "cell_type": "markdown",
   "metadata": {
    "id": "f2emWlFquBMg"
   },
   "source": [
    "## Домашнее задание\n",
    "\n"
   ]
  },
  {
   "cell_type": "markdown",
   "metadata": {
    "id": "tvwV0vXR3LiS"
   },
   "source": [
    "### 1. Локализация корней.\n",
    "\n",
    "Локализовать действительные корни в уравнении:\n",
    "\n",
    "$$\n",
    "f(x)=20 x^{3} - 4 x^{2} - 5 x + 1 .\n",
    "$$"
   ]
  },
  {
   "cell_type": "code",
   "execution_count": null,
   "metadata": {},
   "outputs": [],
   "source": [
    "import numpy as np\n",
    "import sympy as smp"
   ]
  },
  {
   "cell_type": "code",
   "execution_count": null,
   "metadata": {},
   "outputs": [],
   "source": [
    "# Взято из __Пример. Нахождение всех корней многочлена.__\n",
    "# A list of colors to distinguish the roots.\n",
    "colors = ['xkcd:eggshell', 'mediumseagreen', 'c', 'xkcd:sky blue']\n",
    "\n",
    "TOL = 1.e-8\n",
    "\n",
    "def newton(z0, f, fprime, MAX_IT=1000):\n",
    "    \"\"\"The Newton-Raphson method applied to f(z).\n",
    "\n",
    "    Returns the root found, starting with an initial guess, z0, or False\n",
    "    if no convergence to tolerance TOL was reached within MAX_IT iterations.\n",
    "\n",
    "    \"\"\"\n",
    "\n",
    "    z = z0\n",
    "    for i in range(MAX_IT):\n",
    "\n",
    "        # Вместо всей этой секции z = optimize.newton(f, z0, fprime)\n",
    "\n",
    "        dz = f(z)/fprime(z)\n",
    "        if abs(dz) < TOL:\n",
    "            return z\n",
    "        z -= dz\n",
    "    return False\n",
    "\n",
    "def plot_newton_fractal(f, fprime, n=200, domain=(-1, 1, -1, 1)):\n",
    "    \"\"\"Plot a Newton Fractal by finding the roots of f(z).\n",
    "\n",
    "    The domain used for the fractal image is the region of the complex plane\n",
    "    (xmin, xmax, ymin, ymax) where z = x + iy, discretized into n values along\n",
    "    each axis.\n",
    "\n",
    "    \"\"\"\n",
    "\n",
    "    roots = []\n",
    "    m = np.zeros((n, n))\n",
    "\n",
    "    def get_root_index(roots, r):\n",
    "        \"\"\"Get the index of r in the list roots.\n",
    "\n",
    "        If r is not in roots, append it to the list.\n",
    "\n",
    "        \"\"\"\n",
    "\n",
    "        try:\n",
    "            return np.where(np.isclose(roots, r, atol=TOL))[0][0]\n",
    "        except IndexError:\n",
    "            roots.append(r)\n",
    "            return len(roots) - 1\n",
    "\n",
    "    xmin, xmax, ymin, ymax = domain\n",
    "    for ix, x in enumerate(np.linspace(xmin, xmax, n)):\n",
    "        for iy, y in enumerate(np.linspace(ymin, ymax, n)):\n",
    "            z0 = x + y*1j\n",
    "            r = newton(z0, f, fprime)\n",
    "            if r is not False:\n",
    "                ir = get_root_index(roots, r)\n",
    "                m[iy, ix] = ir\n",
    "\n",
    "\n",
    "    count_r_a = [0, 0]\n",
    "    max_ = -1\n",
    "    i_max = -1\n",
    "\n",
    "    for i, root in enumerate(roots):\n",
    "        abs_ = root.real**2 + root.imag**2\n",
    "\n",
    "        if abs_ > max_:\n",
    "            max_ = abs_\n",
    "            i_max = i\n",
    "\n",
    "    for ix, x in enumerate(np.linspace(xmin, xmax, n)): # Считаем долю площади наиб. корня\n",
    "        for iy, y in enumerate(np.linspace(ymin, ymax, n)):\n",
    "            if x**2 + y**2 < 10**2:\n",
    "                count_r_a[1] += 1\n",
    "\n",
    "                if (m[iy, ix] == i_max):\n",
    "                    count_r_a[0] += 1\n",
    "\n",
    "    nroots = len(roots)\n",
    "    if nroots > len(colors):\n",
    "        # Use a \"continuous\" colormap if there are too many roots.\n",
    "        cmap = 'hsv'\n",
    "    else:\n",
    "        # Use a list of colors for the colormap: one for each root.\n",
    "        cmap = ListedColormap(colors[:nroots])\n",
    "\n",
    "    plt.figure(figsize=(7,7))\n",
    "    plt.imshow(m, extent = [xmin, xmax, ymin, ymax], cmap=cmap)\n",
    "\n",
    "    for i, root in enumerate(roots):\n",
    "        plt.scatter(root.real, root.imag)\n",
    "\n",
    "    plt.show()\n",
    "\n",
    "    return roots, float(count_r_a[0]/count_r_a[1])*np.pi*100\n",
    "\n",
    "f = lambda z: 20*z**3 - 4*z**2 - 5*z + 1\n",
    "fprime = lambda z: 60*z**2 -8*z - 5\n",
    "\n",
    "domain=(-10, 10, -10, 10)\n",
    "n = 400\n",
    "\n",
    "roots, m = plot_newton_fractal(f, fprime, n=n, domain=domain)\n",
    "print(roots)\n",
    "print(f\"S = {m}\")"
   ]
  },
  {
   "cell_type": "markdown",
   "metadata": {
    "id": "4Rptf0343R3g"
   },
   "source": [
    "### 2. Порядок сходимости итерационного метода.\n",
    "\n",
    "Определить порядок сходимости итерационного метода при вычислении квадратного корня $x^* = \\sqrt a$ :\n",
    "\n",
    "\n",
    "\n",
    "$$\n",
    "x_{n+1}=x_n - \\frac{11x_n^4 - 4x_n^2 a + a^2}{16 x_n^5} (x_n^2 - a)\n",
    "$$"
   ]
  },
  {
   "cell_type": "code",
   "execution_count": 26,
   "metadata": {},
   "outputs": [
    {
     "name": "stdout",
     "output_type": "stream",
     "text": [
      "0\n"
     ]
    }
   ],
   "source": [
    "from sympy import symbols, sqrt, diff\n",
    "\n",
    "x, a = symbols('x a')\n",
    "\n",
    "def F(x):\n",
    "    return x - (11 * (x ** 4) - 4 * a * (x ** 2) + (a ** 2)) * (x ** 2 - a) / (16 * (x ** 5))\n",
    "\n",
    "def F1(x):\n",
    "    return 1 - (a**2 - 4*a*x**2 + 11*x**4)/(8*x**4) - (-a + x**2)*(-8*a*x + 44*x**3)/(16*x**5) + 5*(-a + x**2)*(a**2 - 4*a*x**2 + 11*x**4)/(16*x**6)\n",
    "\n",
    "# Производная по x\n",
    "derivative_F = diff(F(x), x)\n",
    "\n",
    "# Подставим \\sqrt(a) \n",
    "result_derivative_at_sqrt_a = derivative_F.subs(x, sqrt(a)) # в точке \\sqrt(a) производная = 0\n",
    "\n",
    "print(result_derivative_at_sqrt_a)\n"
   ]
  },
  {
   "cell_type": "code",
   "execution_count": 29,
   "metadata": {},
   "outputs": [
    {
     "name": "stdout",
     "output_type": "stream",
     "text": [
      "0\n"
     ]
    },
    {
     "data": {
      "text/latex": [
       "$\\displaystyle \\frac{2 a - 11 x^{2} - \\frac{\\left(a - x^{2}\\right) \\left(2 a - 33 x^{2}\\right)}{4 x^{2}} + \\frac{5 \\left(a - x^{2}\\right) \\left(2 a - 11 x^{2}\\right)}{2 x^{2}} + \\frac{9 \\left(a^{2} - 4 a x^{2} + 11 x^{4}\\right)}{8 x^{2}} + \\frac{15 \\left(a - x^{2}\\right) \\left(a^{2} - 4 a x^{2} + 11 x^{4}\\right)}{8 x^{4}}}{x^{3}}$"
      ],
      "text/plain": [
       "(2*a - 11*x**2 - (a - x**2)*(2*a - 33*x**2)/(4*x**2) + 5*(a - x**2)*(2*a - 11*x**2)/(2*x**2) + 9*(a**2 - 4*a*x**2 + 11*x**4)/(8*x**2) + 15*(a - x**2)*(a**2 - 4*a*x**2 + 11*x**4)/(8*x**4))/x**3"
      ]
     },
     "execution_count": 29,
     "metadata": {},
     "output_type": "execute_result"
    }
   ],
   "source": [
    "def F2(x):\n",
    "    return (2*a - 11*x**2 - (a - x**2)*(2*a - 33*x**2)/(4*x**2) + 5*(a - x**2)*(2*a - 11*x**2)/(2*x**2) + 9*(a**2 - 4*a*x**2 + 11*x**4)/(8*x**2) + 15*(a - x**2)*(a**2 - 4*a*x**2 + 11*x**4)/(8*x**4))/x**3\n",
    "print(F2(sqrt(a))) # третья производная тоже =0 в \\sqrt(a)\n",
    "\n",
    "diff(F(x), x, 2)"
   ]
  },
  {
   "cell_type": "code",
   "execution_count": 31,
   "metadata": {},
   "outputs": [
    {
     "name": "stdout",
     "output_type": "stream",
     "text": [
      "0\n"
     ]
    },
    {
     "data": {
      "text/latex": [
       "$\\displaystyle \\frac{3 \\left(- 20 a + 220 x^{2} + \\frac{10 \\left(a - x^{2}\\right) \\left(2 a - 33 x^{2}\\right)}{x^{2}} - \\frac{60 \\left(a - x^{2}\\right) \\left(2 a - 11 x^{2}\\right)}{x^{2}} - \\frac{25 \\left(a^{2} - 4 a x^{2} + 11 x^{4}\\right)}{x^{2}} - \\frac{35 \\left(a - x^{2}\\right) \\left(a^{2} - 4 a x^{2} + 11 x^{4}\\right)}{x^{4}}\\right)}{8 x^{4}}$"
      ],
      "text/plain": [
       "3*(-20*a + 220*x**2 + 10*(a - x**2)*(2*a - 33*x**2)/x**2 - 60*(a - x**2)*(2*a - 11*x**2)/x**2 - 25*(a**2 - 4*a*x**2 + 11*x**4)/x**2 - 35*(a - x**2)*(a**2 - 4*a*x**2 + 11*x**4)/x**4)/(8*x**4)"
      ]
     },
     "execution_count": 31,
     "metadata": {},
     "output_type": "execute_result"
    }
   ],
   "source": [
    "def F3(x):\n",
    "    return 3*(-20*a + 220*x**2 + 10*(a - x**2)*(2*a - 33*x**2)/x**2 - 60*(a - x**2)*(2*a - 11*x**2)/x**2 - 25*(a**2 - 4*a*x**2 + 11*x**4)/x**2 - 35*(a - x**2)*(a**2 - 4*a*x**2 + 11*x**4)/x**4)/(8*x**4)\n",
    "\n",
    "print(F3(sqrt(a))) # третья производная тоже =0 в sqrt(a)\n",
    "\n",
    "diff(F(x), x, 3)  "
   ]
  },
  {
   "cell_type": "code",
   "execution_count": 32,
   "metadata": {},
   "outputs": [
    {
     "name": "stdout",
     "output_type": "stream",
     "text": [
      "15/a**(3/2)\n"
     ]
    },
    {
     "data": {
      "text/latex": [
       "$\\displaystyle \\frac{3 \\left(-44 - \\frac{209 \\left(a - x^{2}\\right)}{2 x^{2}} - \\frac{9 \\cdot \\left(2 a - 33 x^{2}\\right)}{x^{2}} + \\frac{50 \\cdot \\left(2 a - 11 x^{2}\\right)}{x^{2}} - \\frac{15 \\left(a - x^{2}\\right) \\left(2 a - 33 x^{2}\\right)}{x^{4}} + \\frac{70 \\left(a - x^{2}\\right) \\left(2 a - 11 x^{2}\\right)}{x^{4}} + \\frac{55 \\left(a^{2} - 4 a x^{2} + 11 x^{4}\\right)}{2 x^{4}} + \\frac{35 \\left(a - x^{2}\\right) \\left(a^{2} - 4 a x^{2} + 11 x^{4}\\right)}{x^{6}}\\right)}{x^{3}}$"
      ],
      "text/plain": [
       "3*(-44 - 209*(a - x**2)/(2*x**2) - 9*(2*a - 33*x**2)/x**2 + 50*(2*a - 11*x**2)/x**2 - 15*(a - x**2)*(2*a - 33*x**2)/x**4 + 70*(a - x**2)*(2*a - 11*x**2)/x**4 + 55*(a**2 - 4*a*x**2 + 11*x**4)/(2*x**4) + 35*(a - x**2)*(a**2 - 4*a*x**2 + 11*x**4)/x**6)/x**3"
      ]
     },
     "execution_count": 32,
     "metadata": {},
     "output_type": "execute_result"
    }
   ],
   "source": [
    "def F4(x):\n",
    "    return 3*(-44 - 209*(a - x**2)/(2*x**2) - 9*(2*a - 33*x**2)/x**2 + 50*(2*a - 11*x**2)/x**2 - 15*(a - x**2)*(2*a - 33*x**2)/x**4 + 70*(a - x**2)*(2*a - 11*x**2)/x**4 + 55*(a**2 - 4*a*x**2 + 11*x**4)/(2*x**4) + 35*(a - x**2)*(a**2 - 4*a*x**2 + 11*x**4)/x**6)/x**3\n",
    "\n",
    "print(F4(sqrt(a))) \n",
    "\n",
    "diff(F(x), x, 4)  "
   ]
  },
  {
   "cell_type": "markdown",
   "metadata": {},
   "source": [
    "Таким образом, включительно до 3 порядка производные равны нулю в искомой точке, а четвертая не равна. Следовательно порядок сходимости равен 3"
   ]
  },
  {
   "cell_type": "markdown",
   "metadata": {
    "id": "D26IM4_MuBMg"
   },
   "source": [
    "\n",
    "\n",
    "### 3. Метод Ньютона и Гаусса-Ньютона.\n",
    "\n",
    "Решение проблемы многомерной линейной регрессии нормальным уравнением очень похоже на обобщение метода Ньютона на многомерный случай. Но это не так.\n",
    "Укажите, в чём различие между методами. В одномерном случае\n",
    "\n",
    "$$\n",
    "f(x) \\approx f(x_0) + f^{\\prime}(x_0)(x - x_0) = 0\n",
    "$$\n",
    "\n",
    "$$\n",
    "x =  x_0 - \\frac{f(x_0)}{f^{\\prime}(x_0)}\n",
    "$$\n",
    "\n",
    "Обобщение метода Ньютона на многомерный случай выглядит так.\n",
    "\n",
    "$$\n",
    "F(\\vec{β}) \\approx F(\\vec{β^{(0)}}) + \\sum\\limits_{i=1}^n{\\frac{∂F(\\vec{β^{(0)}})}{∂β_i}(β_i - β^0_i)} = 0\n",
    "$$\n",
    "\n",
    "$$\n",
    "F(\\vec{β^{(0)}}) + \\nabla F(\\vec{β^{(0)}})\\vec{p}   = 0\n",
    "$$\n",
    "\n",
    "В случае поиска минимума функции F к нулю приравниваем частные производные F\n",
    "$$\n",
    "\\frac{∂F(\\vec{β})}{∂β_i} \\approx \\frac{∂F(\\vec{β^{(0)}})}{∂β_i} + \\sum\\limits_{j=1}^n{\\frac{∂^2F(\\vec{β^{(0)}})}{∂β_i∂β_j}(β_i - β^0_i)} = 0\n",
    "$$\n",
    "\n",
    "Хинт: покажите, что\n",
    "\n",
    "$$\n",
    "2J^TJ  \\neq   H_{ij}\n",
    "$$\n",
    "\n",
    "$H_{ij}$ - гессиан F.\n",
    "\n",
    "\n",
    "\n",
    "\n",
    "\n",
    "\n",
    "\n",
    "\n",
    "\n",
    "\n"
   ]
  },
  {
   "cell_type": "markdown",
   "metadata": {},
   "source": [
    "РЕШЕНИЕ ТУТ\n",
    "\n",
    "В случае многомерной линейной регрессии имеется в виду уравнение:\n",
    "$$ w = (X^T X)^{-1} X^Ty$$\n",
    "Которое является точным решением для поиска минимума функции потерь $|y - Xw|^2_2$, то есть это не иттерационным метод, и сравнение непонятно изначально\n"
   ]
  },
  {
   "cell_type": "markdown",
   "metadata": {},
   "source": [
    "По поводу неравенства матриц, сложно понять, что имелось в виду под этим заданием, так как если F - скалярная функция, то J - вектор, следовательно $J^T J$ - число, а не матрица, а если F - вектор функция, то H - тензор третьего ранга и получить его перемножением квадратных матриц не получится."
   ]
  },
  {
   "cell_type": "markdown",
   "metadata": {
    "id": "nZsyCInEuBMm"
   },
   "source": [
    "### 4. Зри в корень\n",
    "\n",
    "Отделить корни следующих уравнений, а затем уточнить один из них с помощью подходящего итерационно процесса (любых двух на ваш выбор двумя разными методами):\n",
    "\n",
    "\n",
    "a) $(0.5)^x+1=(x-1)^2$,\n",
    "\n",
    "__b)__ $(x-3) \\cos x=1, \\quad-2 \\pi \\leq \\mathrm{x} \\leq 2 \\pi$,\n",
    "\n",
    "c) $\\operatorname{arctg}(x-1)+2 x=0$,\n",
    "\n",
    "__d)__ $x^2-20 \\sin x=0$\n",
    "\n",
    "e) $2 \\operatorname{tg} x-x / 2+1=0$,\n",
    "\n",
    "__f)__ $2 \\lg x-x / 2+1=0$,\n",
    "\n",
    "g) $x^2-e^x / 5=0$\n",
    "\n",
    "__h)__ $\\ln x+(x-1)^3=0$,\n",
    "\n",
    "i) $x 2^x=1$\n",
    "\n",
    "__j)__ $(x+1)^{0.5}=1 / x$."
   ]
  },
  {
   "cell_type": "code",
   "execution_count": 26,
   "metadata": {},
   "outputs": [],
   "source": [
    "import numpy as np\n",
    "\n",
    "def Fg(x):\n",
    "    return x ** 2 - np.exp(x) / 5\n",
    "\n",
    "def Jg(x):\n",
    "    return 2 * x - np.exp(x) / 5\n",
    "\n",
    "def Fi(x):\n",
    "    return x * (2 ** x) - 1\n",
    "\n",
    "def Ji(x):\n",
    "    return 2 ** x + x * (2 ** x) * np.log(2)\n",
    "\n",
    "def Newton_system(F, J, x, eps):\n",
    "    \"\"\"\n",
    "    Solve nonlinear system F=0 by Newton's method.\n",
    "    J is the Jacobian of F. Both F and J must be functions of x.\n",
    "    At input, x holds the start value. The iteration continues\n",
    "    until ||F|| < eps.\n",
    "    \"\"\"\n",
    "    F_value = F(x)\n",
    "    F_norm = abs(F_value)  # l2 norm of vector\n",
    "    iteration_counter = 0\n",
    "    while F_norm > eps and iteration_counter < 100:\n",
    "        delta = - F(x) / J(x)\n",
    "        x = x + delta\n",
    "        F_value = F(x)\n",
    "        F_norm = abs(F_value)\n",
    "        iteration_counter += 1\n",
    "\n",
    "    # Here, either a solution is found, or too many iterations\n",
    "    if F_norm > eps:\n",
    "        iteration_counter = -1\n",
    "    return x, iteration_counter\n",
    "\n",
    "def Secant(F, x=4, eps=1e-9):\n",
    "    x_prev = x\n",
    "    x_cur = x_prev + 0.1\n",
    "    F_value = F(x_cur)\n",
    "    F_norm = abs(F_value)  # l2 norm of vector\n",
    "    iteration_counter = 0\n",
    "    while F_norm > eps and iteration_counter < 100:\n",
    "        delta = - F(x_cur) * (x_cur - x_prev) / (F(x_cur) - F(x_prev))\n",
    "        x_prev = x_cur\n",
    "        x_cur = x_cur + delta\n",
    "        F_norm = abs(F(x_cur))\n",
    "        iteration_counter += 1\n",
    "\n",
    "    # Here, either a solution is found, or too many iterations\n",
    "    if F_norm > eps:\n",
    "        iteration_counter = -1\n",
    "    return x_cur, iteration_counter"
   ]
  },
  {
   "cell_type": "code",
   "execution_count": 27,
   "metadata": {},
   "outputs": [
    {
     "data": {
      "text/plain": [
       "(4.7079379181288585, 7)"
      ]
     },
     "execution_count": 27,
     "metadata": {},
     "output_type": "execute_result"
    }
   ],
   "source": [
    "Newton_system(Fg, Jg, x=4, eps=1e-9)"
   ]
  },
  {
   "cell_type": "code",
   "execution_count": 28,
   "metadata": {},
   "outputs": [
    {
     "data": {
      "text/plain": [
       "(4.7079379181288585, 9)"
      ]
     },
     "execution_count": 28,
     "metadata": {},
     "output_type": "execute_result"
    }
   ],
   "source": [
    "Secant(Fg, x=4, eps=1e-9)"
   ]
  },
  {
   "cell_type": "code",
   "execution_count": 13,
   "metadata": {},
   "outputs": [
    {
     "data": {
      "text/plain": [
       "(0.641185744504986, 4)"
      ]
     },
     "execution_count": 13,
     "metadata": {},
     "output_type": "execute_result"
    }
   ],
   "source": [
    "Newton_system(Fi, Ji, x=0.5, eps=1e-9)"
   ]
  },
  {
   "cell_type": "code",
   "execution_count": 29,
   "metadata": {},
   "outputs": [
    {
     "data": {
      "text/plain": [
       "(0.6411857445143642, 4)"
      ]
     },
     "execution_count": 29,
     "metadata": {},
     "output_type": "execute_result"
    }
   ],
   "source": [
    "Secant(Fi, x=0.5, eps=1e-9)"
   ]
  },
  {
   "cell_type": "markdown",
   "metadata": {
    "id": "wH0FmFPMuBMm"
   },
   "source": [
    "### 5. Зри в корень дважды\n",
    "\n",
    "Вычислить с точностью $\\varepsilon=10^{-3}$ координаты точек пересечения кривых (любых двух на ваш выбор двумя разными методами):\n",
    "\n",
    "a)\n",
    "$$\n",
    "\\left\\{\\begin{array}{l}\n",
    "\\sin (x+1)-y=1.2 \\\\\n",
    "2 x+\\cos (y)=2\n",
    "\\end{array}\\right.\n",
    "$$\n",
    "б)\n",
    "$$\n",
    "\\left\\{\\begin{array}{l}\n",
    "\\tan (x y+0.4)=x^2 \\\\\n",
    "0.6 x^2+2 y^2=1\n",
    "\\end{array}\\right.\n",
    "$$\n",
    "B)\n",
    "$$\n",
    "\\left\\{\\begin{array}{l}\n",
    "\\cos (x-1)+y=0.5 \\\\\n",
    "x-\\cos (y)=3\n",
    "\\end{array}\\right.\n",
    "$$\n",
    "г)\n",
    "$$\n",
    "\\left\\{\\begin{array}{l}\n",
    "\\sin (x+2)-y=1.5 \\\\\n",
    "x+\\cos (y-2)=0.5\n",
    "\\end{array}\\right.\n",
    "$$"
   ]
  },
  {
   "cell_type": "code",
   "execution_count": 30,
   "metadata": {},
   "outputs": [],
   "source": [
    "import numpy as np\n",
    "\n",
    "\n",
    "def Newton_system(F, J, x, eps):\n",
    "    \"\"\"\n",
    "    Solve nonlinear system F=0 by Newton's method.\n",
    "    J is the Jacobian of F. Both F and J must be functions of x.\n",
    "    At input, x holds the start value. The iteration continues\n",
    "    until ||F|| < eps.\n",
    "    \"\"\"\n",
    "    F_value = F(x)\n",
    "    F_norm = np.linalg.norm(F_value, ord=2)  # l2 norm of vector\n",
    "    iteration_counter = 0\n",
    "    while abs(F_norm) > eps and iteration_counter < 100:\n",
    "        delta = np.linalg.solve(J(x), -F_value)\n",
    "        x = x + delta\n",
    "        F_value = F(x)\n",
    "        F_norm = np.linalg.norm(F_value, ord=2)\n",
    "        iteration_counter += 1\n",
    "\n",
    "    # Here, either a solution is found, or too many iterations\n",
    "    if abs(F_norm) > eps:\n",
    "        iteration_counter = -1\n",
    "    return x, iteration_counter\n",
    "\n",
    "\n",
    "def Jacobi_system(F, Fi, x, eps):\n",
    "    \"\"\"\n",
    "    Solve nonlinear system F=0 by Jacobi's method.\n",
    "    At input, x holds the start value. The iteration continues\n",
    "    until ||F|| < eps.\n",
    "    x = Fi(x)\n",
    "    for a)\n",
    "    \"\"\"\n",
    "    F_value = F(x)\n",
    "    F_norm = np.linalg.norm(F_value, ord=2)  # l2 norm of vector\n",
    "    iteration_counter = 0\n",
    "    while abs(F_norm) > eps and iteration_counter < 100:\n",
    "        x = Fi(x)\n",
    "        F_value = F(x)\n",
    "        F_norm = np.linalg.norm(F_value, ord=2)\n",
    "        iteration_counter += 1\n",
    "\n",
    "    # Here, either a solution is found, or too many iterations\n",
    "    if abs(F_norm) > eps:\n",
    "        iteration_counter = -1\n",
    "    return x, iteration_counter"
   ]
  },
  {
   "cell_type": "code",
   "execution_count": 33,
   "metadata": {},
   "outputs": [],
   "source": [
    "def Fi_a(x):\n",
    "    return np.array([1 - 0.5*np.cos(x[1]), np.sin(x[0] + 1) - 1.2])\n",
    "\n",
    "def F_a(x):\n",
    "    return np.array([np.sin(x[0] + 1) - x[1] - 1.2, 2*x[0] + np.cos(x[1]) - 2])\n",
    "\n",
    "def F_c(x):\n",
    "    return np.array([np.cos(x[0] - 1) + x[1] - 0.5, x[0] - np.cos(x[1]) - 3])\n",
    "\n",
    "def J_c(x):\n",
    "    return np.array([[-np.sin(x[0] - 1), 1], [1, np.sin(x[1])]])"
   ]
  },
  {
   "cell_type": "code",
   "execution_count": 34,
   "metadata": {},
   "outputs": [
    {
     "data": {
      "text/plain": [
       "(array([ 0.51015052, -0.20183835]), 6)"
      ]
     },
     "execution_count": 34,
     "metadata": {},
     "output_type": "execute_result"
    }
   ],
   "source": [
    "Jacobi_system(F_a, Fi_a, x=np.array([1, -0.5]), eps=1e-6)"
   ]
  },
  {
   "cell_type": "code",
   "execution_count": 37,
   "metadata": {},
   "outputs": [
    {
     "data": {
      "text/plain": [
       "(array([3.35591174, 1.20690682]), 10)"
      ]
     },
     "execution_count": 37,
     "metadata": {},
     "output_type": "execute_result"
    }
   ],
   "source": [
    "Newton_system(F_c, J_c, x=np.array([1, 1]), eps=1e-6)"
   ]
  },
  {
   "cell_type": "markdown",
   "metadata": {
    "id": "M54t1xbyuBMm"
   },
   "source": [
    "### 6*. Оценка скорости сходимости метода Ньютона.\n",
    "Покажите, что для функции $f(x)=|x|^{5 / 2}$ метод Ньютона сходится лишь экспонциально - т.е. невязка уменьшается пропорционально $e^{-n}$.\n",
    "\n",
    "Покажите аналитически, что метод Ньютона в лучшем случае имеет квадратичную экспонциальную сходимость, т.е. ошибка убывает пропорционально $e^{-n^2}$."
   ]
  }
 ],
 "metadata": {
  "anaconda-cloud": {},
  "celltoolbar": "Слайд-шоу",
  "colab": {
   "provenance": []
  },
  "kernelspec": {
   "display_name": "Python 3 (ipykernel)",
   "language": "python",
   "name": "python3"
  },
  "language_info": {
   "codemirror_mode": {
    "name": "ipython",
    "version": 3
   },
   "file_extension": ".py",
   "mimetype": "text/x-python",
   "name": "python",
   "nbconvert_exporter": "python",
   "pygments_lexer": "ipython3",
   "version": "3.10.11"
  },
  "livereveal": {
   "scroll": true,
   "theme": "simple",
   "transition": "convex"
  },
  "nbpresent": {
   "slides": {
    "1ffee25c-251f-4cbf-af3d-a1d5521081b9": {
     "id": "1ffee25c-251f-4cbf-af3d-a1d5521081b9",
     "prev": "eb43fa9f-eb7c-417b-ab1a-99371ff452e2",
     "regions": {
      "2e1a7b46-c253-4096-a0a5-dfbc6cfb086e": {
       "attrs": {
        "height": 0.8,
        "width": 0.8,
        "x": 0.1,
        "y": 0.1
       },
       "content": {
        "cell": "bf40e897-f1f8-4e69-b826-fe53fb761aad",
        "part": "whole"
       },
       "id": "2e1a7b46-c253-4096-a0a5-dfbc6cfb086e"
      }
     }
    },
    "37c43f64-6426-4a98-8de1-a6ca1dd72190": {
     "id": "37c43f64-6426-4a98-8de1-a6ca1dd72190",
     "prev": "d2b700ea-e44e-4bed-9ce4-ddf1532b44cb",
     "regions": {
      "45a20e24-b33f-4c55-8df2-e96075b5e2af": {
       "attrs": {
        "height": 0.8,
        "width": 0.8,
        "x": 0.1,
        "y": 0.1
       },
       "content": {
        "cell": "e730e690-97c9-4acd-bf81-4c5ab0bbd48e",
        "part": "whole"
       },
       "id": "45a20e24-b33f-4c55-8df2-e96075b5e2af"
      }
     }
    },
    "5bf0841a-23d1-413e-a557-911111e3e336": {
     "id": "5bf0841a-23d1-413e-a557-911111e3e336",
     "prev": "ebd3a807-2380-4bd6-8e58-c9424f3ed713",
     "regions": {
      "3c8adac9-5366-49e9-96ab-965c77e83485": {
       "attrs": {
        "height": 0.8,
        "width": 0.8,
        "x": 0.1,
        "y": 0.1
       },
       "content": {
        "cell": "2e08a439-2699-4ecf-9189-dfbbf745ad4e",
        "part": "whole"
       },
       "id": "3c8adac9-5366-49e9-96ab-965c77e83485"
      }
     }
    },
    "60ffd9bc-f20d-41e5-8771-5f11695177c6": {
     "id": "60ffd9bc-f20d-41e5-8771-5f11695177c6",
     "prev": "97575fe4-de27-4833-b616-7479f99519d0",
     "regions": {
      "807a955a-60c8-4f03-8734-54dfd52113d6": {
       "attrs": {
        "height": 0.8,
        "width": 0.8,
        "x": 0.1,
        "y": 0.1
       },
       "content": {
        "cell": "795c8121-f820-4edc-aeba-fc399b38f4b2",
        "part": "whole"
       },
       "id": "807a955a-60c8-4f03-8734-54dfd52113d6"
      }
     }
    },
    "623d8bc9-43df-451f-b862-76c2b54708ea": {
     "id": "623d8bc9-43df-451f-b862-76c2b54708ea",
     "prev": "eded54a5-7710-4ab6-8229-3ca4029d1ae7",
     "regions": {
      "42b1d4d4-2905-454b-b564-92f58dec8f81": {
       "attrs": {
        "height": 0.8,
        "width": 0.8,
        "x": 0.1,
        "y": 0.1
       },
       "content": {
        "cell": "16fd05b0-8ac8-4da2-8980-54d0d253d110",
        "part": "whole"
       },
       "id": "42b1d4d4-2905-454b-b564-92f58dec8f81"
      }
     }
    },
    "6dabcfe1-1c90-4893-8f01-c39e431f00bb": {
     "id": "6dabcfe1-1c90-4893-8f01-c39e431f00bb",
     "prev": "37c43f64-6426-4a98-8de1-a6ca1dd72190",
     "regions": {
      "1126b4c4-7df3-4db1-962b-abe099db9928": {
       "attrs": {
        "height": 0.8,
        "width": 0.8,
        "x": 0.1,
        "y": 0.1
       },
       "content": {
        "cell": "54519c05-1028-4e5c-a2d2-e21f821e99aa",
        "part": "whole"
       },
       "id": "1126b4c4-7df3-4db1-962b-abe099db9928"
      }
     }
    },
    "91753ba8-05fe-465f-806d-0faf4a21a031": {
     "id": "91753ba8-05fe-465f-806d-0faf4a21a031",
     "prev": "5bf0841a-23d1-413e-a557-911111e3e336",
     "regions": {
      "eb271beb-70d0-452e-b896-43695be4ae85": {
       "attrs": {
        "height": 0.8,
        "width": 0.8,
        "x": 0.1,
        "y": 0.1
       },
       "content": {
        "cell": "31cc3d04-22a5-4773-b4e1-abfb09f8bbc2",
        "part": "whole"
       },
       "id": "eb271beb-70d0-452e-b896-43695be4ae85"
      }
     }
    },
    "97575fe4-de27-4833-b616-7479f99519d0": {
     "id": "97575fe4-de27-4833-b616-7479f99519d0",
     "prev": "b8aebb38-1266-40c2-928a-026f9d33ec5c",
     "regions": {
      "01deb5d1-73e8-4d64-b93e-e7646647af3b": {
       "attrs": {
        "height": 0.8,
        "width": 0.8,
        "x": 0.1,
        "y": 0.1
       },
       "content": {
        "cell": "7f2bdffe-4f2a-446b-8805-d4fd262fced1",
        "part": "whole"
       },
       "id": "01deb5d1-73e8-4d64-b93e-e7646647af3b"
      }
     }
    },
    "9cc88d72-9ac9-4c24-96d5-abc94cea6e92": {
     "id": "9cc88d72-9ac9-4c24-96d5-abc94cea6e92",
     "prev": "1ffee25c-251f-4cbf-af3d-a1d5521081b9",
     "regions": {
      "78febecd-5100-493b-8f0d-0cc35ceae42e": {
       "attrs": {
        "height": 0.8,
        "width": 0.8,
        "x": 0.1,
        "y": 0.1
       },
       "content": {
        "cell": "bef00443-818c-4614-aa63-8a2e117462ec",
        "part": "whole"
       },
       "id": "78febecd-5100-493b-8f0d-0cc35ceae42e"
      }
     }
    },
    "a5df524d-67a8-4ae1-8258-9231728bdd14": {
     "id": "a5df524d-67a8-4ae1-8258-9231728bdd14",
     "prev": "623d8bc9-43df-451f-b862-76c2b54708ea",
     "regions": {
      "68e876ca-f943-4b2e-8268-439db992b310": {
       "attrs": {
        "height": 0.8,
        "width": 0.8,
        "x": 0.1,
        "y": 0.1
       },
       "content": {
        "cell": "40af6766-3ae3-4acc-8417-439eb8968553",
        "part": "whole"
       },
       "id": "68e876ca-f943-4b2e-8268-439db992b310"
      }
     }
    },
    "b62355d8-8b93-4dfc-8016-6548952c0f8c": {
     "id": "b62355d8-8b93-4dfc-8016-6548952c0f8c",
     "prev": "f59840cf-124e-4d10-8b89-3aafe98f38ba",
     "regions": {
      "381cc6bd-bde3-4d58-8277-99fbd69c7a4f": {
       "attrs": {
        "height": 0.8,
        "width": 0.8,
        "x": 0.1,
        "y": 0.1
       },
       "content": {
        "cell": "b92c1827-c799-44b9-b770-f45e95c917da",
        "part": "whole"
       },
       "id": "381cc6bd-bde3-4d58-8277-99fbd69c7a4f"
      }
     }
    },
    "b8aebb38-1266-40c2-928a-026f9d33ec5c": {
     "id": "b8aebb38-1266-40c2-928a-026f9d33ec5c",
     "prev": "9cc88d72-9ac9-4c24-96d5-abc94cea6e92",
     "regions": {
      "1bc2d24e-0782-443b-83a4-bc683c5ac6cb": {
       "attrs": {
        "height": 0.8,
        "width": 0.8,
        "x": 0.1,
        "y": 0.1
       },
       "content": {
        "cell": "cbb3d96a-fdd6-436e-86b6-1be446b43e84",
        "part": "whole"
       },
       "id": "1bc2d24e-0782-443b-83a4-bc683c5ac6cb"
      }
     }
    },
    "d2b700ea-e44e-4bed-9ce4-ddf1532b44cb": {
     "id": "d2b700ea-e44e-4bed-9ce4-ddf1532b44cb",
     "prev": "a5df524d-67a8-4ae1-8258-9231728bdd14",
     "regions": {
      "474bc80d-f262-4e62-afae-4565c0979e03": {
       "attrs": {
        "height": 0.8,
        "width": 0.8,
        "x": 0.1,
        "y": 0.1
       },
       "content": {
        "cell": "a67001a3-e51e-4a22-bdcd-249cde5581c1",
        "part": "whole"
       },
       "id": "474bc80d-f262-4e62-afae-4565c0979e03"
      }
     }
    },
    "d989978f-1d85-4802-953f-0e82f1a0fd51": {
     "id": "d989978f-1d85-4802-953f-0e82f1a0fd51",
     "prev": null,
     "regions": {
      "e3ddb97a-209b-4c70-91d7-df0cadcefb0d": {
       "attrs": {
        "height": 0.8,
        "width": 0.8,
        "x": 0.1,
        "y": 0.1
       },
       "content": {
        "cell": "13101ac1-2637-4d0f-9f1f-cd32215b02c3",
        "part": "whole"
       },
       "id": "e3ddb97a-209b-4c70-91d7-df0cadcefb0d"
      }
     }
    },
    "eb43fa9f-eb7c-417b-ab1a-99371ff452e2": {
     "id": "eb43fa9f-eb7c-417b-ab1a-99371ff452e2",
     "prev": "b62355d8-8b93-4dfc-8016-6548952c0f8c",
     "regions": {
      "b9415d21-f857-4a93-a788-c7dc51dedea0": {
       "attrs": {
        "height": 0.8,
        "width": 0.8,
        "x": 0.1,
        "y": 0.1
       },
       "content": {
        "cell": "e29b9590-fc86-46fd-83be-3ff48c7a8df4",
        "part": "whole"
       },
       "id": "b9415d21-f857-4a93-a788-c7dc51dedea0"
      }
     }
    },
    "ebd3a807-2380-4bd6-8e58-c9424f3ed713": {
     "id": "ebd3a807-2380-4bd6-8e58-c9424f3ed713",
     "prev": "f3fb61c6-f807-4942-8c41-0e80240a5146",
     "regions": {
      "7eaeb4e2-d47e-43e4-92c4-ed8cc1e9aac7": {
       "attrs": {
        "height": 0.8,
        "width": 0.8,
        "x": 0.1,
        "y": 0.1
       },
       "content": {
        "cell": "412353c7-42b2-42c7-8702-69568c809a97",
        "part": "whole"
       },
       "id": "7eaeb4e2-d47e-43e4-92c4-ed8cc1e9aac7"
      }
     }
    },
    "eded54a5-7710-4ab6-8229-3ca4029d1ae7": {
     "id": "eded54a5-7710-4ab6-8229-3ca4029d1ae7",
     "prev": "91753ba8-05fe-465f-806d-0faf4a21a031",
     "regions": {
      "816c3f73-4147-4cdb-b7d1-f5f82fa6003b": {
       "attrs": {
        "height": 0.8,
        "width": 0.8,
        "x": 0.1,
        "y": 0.1
       },
       "content": {
        "cell": "fa2d4b89-0d7a-41f1-8635-c5905d106cf3",
        "part": "whole"
       },
       "id": "816c3f73-4147-4cdb-b7d1-f5f82fa6003b"
      }
     }
    },
    "f3fb61c6-f807-4942-8c41-0e80240a5146": {
     "id": "f3fb61c6-f807-4942-8c41-0e80240a5146",
     "prev": "d989978f-1d85-4802-953f-0e82f1a0fd51",
     "regions": {
      "4f7abbfb-161b-44ce-bdab-05ef0b2a5542": {
       "attrs": {
        "height": 0.8,
        "width": 0.8,
        "x": 0.1,
        "y": 0.1
       },
       "content": {
        "cell": "8ce7bf3f-66e0-4462-a540-e87bceeadb7f",
        "part": "whole"
       },
       "id": "4f7abbfb-161b-44ce-bdab-05ef0b2a5542"
      }
     }
    },
    "f59840cf-124e-4d10-8b89-3aafe98f38ba": {
     "id": "f59840cf-124e-4d10-8b89-3aafe98f38ba",
     "prev": "6dabcfe1-1c90-4893-8f01-c39e431f00bb",
     "regions": {
      "e67fa4b9-f237-40ff-8621-fcdbfdd83101": {
       "attrs": {
        "height": 0.8,
        "width": 0.8,
        "x": 0.1,
        "y": 0.1
       },
       "content": {
        "cell": "4ae9a30c-81bc-4396-90d8-939a8e59f287",
        "part": "whole"
       },
       "id": "e67fa4b9-f237-40ff-8621-fcdbfdd83101"
      }
     }
    }
   },
   "themes": {
    "default": "c04eebe0-c348-41e9-bcfb-a65d4bd126df",
    "theme": {
     "c04eebe0-c348-41e9-bcfb-a65d4bd126df": {
      "id": "c04eebe0-c348-41e9-bcfb-a65d4bd126df",
      "palette": {
       "19cc588f-0593-49c9-9f4b-e4d7cc113b1c": {
        "id": "19cc588f-0593-49c9-9f4b-e4d7cc113b1c",
        "rgb": [
         252,
         252,
         252
        ]
       },
       "31af15d2-7e15-44c5-ab5e-e04b16a89eff": {
        "id": "31af15d2-7e15-44c5-ab5e-e04b16a89eff",
        "rgb": [
         68,
         68,
         68
        ]
       },
       "50f92c45-a630-455b-aec3-788680ec7410": {
        "id": "50f92c45-a630-455b-aec3-788680ec7410",
        "rgb": [
         155,
         177,
         192
        ]
       },
       "c5cc3653-2ee1-402a-aba2-7caae1da4f6c": {
        "id": "c5cc3653-2ee1-402a-aba2-7caae1da4f6c",
        "rgb": [
         43,
         126,
         184
        ]
       },
       "efa7f048-9acb-414c-8b04-a26811511a21": {
        "id": "efa7f048-9acb-414c-8b04-a26811511a21",
        "rgb": [
         25.118061674008803,
         73.60176211453744,
         107.4819383259912
        ]
       }
      },
      "rules": {
       "blockquote": {
        "color": "50f92c45-a630-455b-aec3-788680ec7410"
       },
       "code": {
        "font-family": "Anonymous Pro"
       },
       "h1": {
        "color": "c5cc3653-2ee1-402a-aba2-7caae1da4f6c",
        "font-family": "Lato",
        "font-size": 8
       },
       "h2": {
        "color": "c5cc3653-2ee1-402a-aba2-7caae1da4f6c",
        "font-family": "Lato",
        "font-size": 6
       },
       "h3": {
        "color": "50f92c45-a630-455b-aec3-788680ec7410",
        "font-family": "Lato",
        "font-size": 5.5
       },
       "h4": {
        "color": "c5cc3653-2ee1-402a-aba2-7caae1da4f6c",
        "font-family": "Lato",
        "font-size": 5
       },
       "h5": {
        "font-family": "Lato"
       },
       "h6": {
        "font-family": "Lato"
       },
       "h7": {
        "font-family": "Lato"
       },
       "pre": {
        "font-family": "Anonymous Pro",
        "font-size": 4
       }
      },
      "text-base": {
       "font-family": "Merriweather",
       "font-size": 4
      }
     },
     "f0b95bb9-67a7-4d14-bf09-657a5b556dbe": {
      "id": "f0b95bb9-67a7-4d14-bf09-657a5b556dbe",
      "palette": {
       "19cc588f-0593-49c9-9f4b-e4d7cc113b1c": {
        "id": "19cc588f-0593-49c9-9f4b-e4d7cc113b1c",
        "rgb": [
         252,
         252,
         252
        ]
       },
       "31af15d2-7e15-44c5-ab5e-e04b16a89eff": {
        "id": "31af15d2-7e15-44c5-ab5e-e04b16a89eff",
        "rgb": [
         68,
         68,
         68
        ]
       },
       "50f92c45-a630-455b-aec3-788680ec7410": {
        "id": "50f92c45-a630-455b-aec3-788680ec7410",
        "rgb": [
         155,
         177,
         192
        ]
       },
       "c5cc3653-2ee1-402a-aba2-7caae1da4f6c": {
        "id": "c5cc3653-2ee1-402a-aba2-7caae1da4f6c",
        "rgb": [
         43,
         126,
         184
        ]
       },
       "efa7f048-9acb-414c-8b04-a26811511a21": {
        "id": "efa7f048-9acb-414c-8b04-a26811511a21",
        "rgb": [
         25.118061674008803,
         73.60176211453744,
         107.4819383259912
        ]
       }
      },
      "rules": {
       "blockquote": {
        "color": "50f92c45-a630-455b-aec3-788680ec7410"
       },
       "code": {
        "font-family": "Anonymous Pro"
       },
       "h1": {
        "color": "c5cc3653-2ee1-402a-aba2-7caae1da4f6c",
        "font-family": "Lato",
        "font-size": 8
       },
       "h2": {
        "color": "c5cc3653-2ee1-402a-aba2-7caae1da4f6c",
        "font-family": "Lato",
        "font-size": 6
       },
       "h3": {
        "color": "50f92c45-a630-455b-aec3-788680ec7410",
        "font-family": "Lato",
        "font-size": 5.5
       },
       "h4": {
        "color": "c5cc3653-2ee1-402a-aba2-7caae1da4f6c",
        "font-family": "Lato",
        "font-size": 5
       },
       "h5": {
        "font-family": "Lato"
       },
       "h6": {
        "font-family": "Lato"
       },
       "h7": {
        "font-family": "Lato"
       },
       "pre": {
        "font-family": "Anonymous Pro",
        "font-size": 4
       }
      },
      "text-base": {
       "font-family": "Merriweather",
       "font-size": 4
      }
     }
    }
   }
  }
 },
 "nbformat": 4,
 "nbformat_minor": 4
}
