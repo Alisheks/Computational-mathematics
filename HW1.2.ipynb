{
 "cells": [
  {
   "cell_type": "markdown",
   "metadata": {
    "id": "Axea-EIzcHuo"
   },
   "source": [
    "# Домашняя работа 1.2\n",
    "\n",
    "__Задание 1. Генератор случайных матриц.__\n",
    "\n",
    "Реализовать генератор матриц, который должен поддерживать функции:\n",
    "* Генерация абсолютно случайной матрицы $n\\times m$\n",
    "* Генерация случайной диагональной матрицы $n\\times n$\n",
    "* Генерация случайной верхнетреугольной матрицы\n",
    "* Генерация случайной нижнетреугольной матрицы\n",
    "* Генерация симметричной матрицы\n",
    "* Генерация возмущения матрицы $n\\times m$, каждый элемент которой не превосходит по модулю заданный $\\varepsilon$. Оценить величину нормы матрицы возмущений в зависимости от параметра $\\varepsilon$ (оценить верхную границу).\n",
    "\n",
    "Оценить численно вероятность того, что созданная матрица будет вырожденной для какого-либо случая выше."
   ]
  },
  {
   "cell_type": "code",
   "execution_count": 1,
   "metadata": {
    "id": "zSsbpkszQMD4"
   },
   "outputs": [],
   "source": [
    "import numpy as np"
   ]
  },
  {
   "cell_type": "code",
   "execution_count": 2,
   "metadata": {
    "id": "JxIk8jZ2cD6S"
   },
   "outputs": [],
   "source": [
    "# Изначально реализована произвольная m,n, верхнетреугольная и симметричная.\n",
    "\n",
    "import numpy as np\n",
    "\n",
    "def matrix_generate(rows, columns, type_ = \"full\", eps = 0):\n",
    "    \"\"\"\n",
    "    matrix_generate(rows, columns, type_ = \"full\") - \n",
    "    создаёт случайную матрицу выбранного типа.\n",
    "\n",
    "    Если матрицу нужных размеров создать нельзя, должен выдать\n",
    "    строку f\"Error with type {type_} and shape ({rows},{columns})\".\n",
    "\n",
    "    Parameters\n",
    "    ----------\n",
    "\n",
    "    rows : int\n",
    "        Количество строк в создаваемой матрице.\n",
    "    columns : int\n",
    "        Количество столбцов в создаваемой матрице.\n",
    "    type_ : str, optional\n",
    "        Тип создаваемой матрицы: \"full\", \"upper_triangular\", \"symmetric\" и т.д.\n",
    "    eps: float, optional\n",
    "        Дополнительное число, использующееся при генерации для некоторых типов матриц.\n",
    "\n",
    "    Returns\n",
    "    -------\n",
    "    out : ndarray or str\n",
    "        Выдаёт матрицу нужного типа либо ошибку.\n",
    "\n",
    "    Notes\n",
    "    -----\n",
    "    Поддерживаемые типы матриц:\n",
    "        \"full\",\"upper_triangular\",\n",
    "        \"symmetric\",\n",
    "        ...\n",
    "\n",
    "\n",
    "    \"\"\"\n",
    "\n",
    "    A = None\n",
    "\n",
    "    #в зависимости от типа A генерируется матрица\n",
    "    \n",
    "    if type_ == \"full\": #обычная \n",
    "\n",
    "        A = np.random.random(size=(rows, columns))\n",
    "\n",
    "    elif type_ == \"upper_triangular\": #верхне-треугольная. Элементы ниже диагонали - 0\n",
    "\n",
    "        A = np.random.random(size=(rows, columns))\n",
    "\n",
    "        for i in range(rows):\n",
    "            for j in range(columns):\n",
    "                if (i > j):\n",
    "                    A[i, j] = 0\n",
    "                    \n",
    "    elif type_ == \"lower_triangular\": #нижне-треугольная. Аналогично, элементы выше диагонаи - 0. \n",
    "\n",
    "        A = np.random.random(size=(rows, columns))\n",
    "\n",
    "        for i in range(rows):\n",
    "            for j in range(columns):\n",
    "                if (i < j):\n",
    "                    A[i, j] = 0\n",
    "\n",
    "\n",
    "    elif type_ == \"symmetric\": #симметричная. \n",
    "\n",
    "        if rows != columns:\n",
    "            return f\"Error with type {type_} and shape ({rows},{columns})\"\n",
    "\n",
    "        else:\n",
    "            A = np.random.random(size=(rows, columns))\n",
    "\n",
    "            for i in range(rows):\n",
    "                for j in range(columns): #происходит симметризация\n",
    "                    if (i > j):\n",
    "                        A[i, j] = A[j, i]\n",
    "\n",
    "    \n",
    "    elif type_ == \"diagonal\": #диагональная \n",
    "\n",
    "        if rows != columns:\n",
    "            return f\"Error with type {type_} and shape ({rows},{columns})\"\n",
    "\n",
    "        else:\n",
    "\n",
    "            A = matrix_generate(rows, columns, \"upper_triangular\") \n",
    "\n",
    "            for i in range(rows): #обнуление выше элементов главной диагонали в верхне-треугольной\n",
    "                for j in range(columns):\n",
    "                    if (i < j):\n",
    "                        A[i, j] = 0\n",
    "\n",
    "    return A"
   ]
  },
  {
   "cell_type": "code",
   "execution_count": 3,
   "metadata": {
    "colab": {
     "base_uri": "https://localhost:8080/"
    },
    "id": "Z-GtDfgBArsE",
    "outputId": "f5462945-966e-430f-b21b-acab4c8c16bb"
   },
   "outputs": [
    {
     "data": {
      "text/plain": [
       "array([[0.42751309, 0.41015284, 0.54123656]])"
      ]
     },
     "execution_count": 3,
     "metadata": {},
     "output_type": "execute_result"
    }
   ],
   "source": [
    "matrix_generate(1, 3)"
   ]
  },
  {
   "cell_type": "code",
   "execution_count": 4,
   "metadata": {
    "colab": {
     "base_uri": "https://localhost:8080/"
    },
    "id": "d69pBS0sFKD2",
    "outputId": "2046c74a-1a78-4d79-906d-e6aac417e608"
   },
   "outputs": [
    {
     "data": {
      "text/plain": [
       "array([[0.05047808, 0.75728261, 0.78821725, 0.57072573],\n",
       "       [0.        , 0.62138737, 0.48189442, 0.61707544],\n",
       "       [0.        , 0.        , 0.36180403, 0.2380998 ],\n",
       "       [0.        , 0.        , 0.        , 0.10089974]])"
      ]
     },
     "execution_count": 4,
     "metadata": {},
     "output_type": "execute_result"
    }
   ],
   "source": [
    "matrix_generate(4, 4, type_ = \"upper_triangular\")"
   ]
  },
  {
   "cell_type": "code",
   "execution_count": 5,
   "metadata": {
    "colab": {
     "base_uri": "https://localhost:8080/"
    },
    "id": "jgK79BJmFR5m",
    "outputId": "88351a8b-7cb6-49bc-f674-c2844a33dfa7"
   },
   "outputs": [
    {
     "data": {
      "text/plain": [
       "array([[0.55408298, 0.26707979, 0.44870037],\n",
       "       [0.        , 0.29223687, 0.26379933],\n",
       "       [0.        , 0.        , 0.61104579],\n",
       "       [0.        , 0.        , 0.        ]])"
      ]
     },
     "execution_count": 5,
     "metadata": {},
     "output_type": "execute_result"
    }
   ],
   "source": [
    "matrix_generate(4, 3, type_ = \"upper_triangular\")"
   ]
  },
  {
   "cell_type": "code",
   "execution_count": 6,
   "metadata": {
    "colab": {
     "base_uri": "https://localhost:8080/"
    },
    "id": "Ii8zK3U6Fba7",
    "outputId": "d22ef6fb-d546-4f42-a8f9-d24ea1f7cb93"
   },
   "outputs": [
    {
     "data": {
      "text/plain": [
       "array([[0.62611614, 0.08475432, 0.50287215, 0.96827079],\n",
       "       [0.08475432, 0.59225126, 0.74683443, 0.66888759],\n",
       "       [0.50287215, 0.74683443, 0.21374388, 0.83040656],\n",
       "       [0.96827079, 0.66888759, 0.83040656, 0.6793492 ]])"
      ]
     },
     "execution_count": 6,
     "metadata": {},
     "output_type": "execute_result"
    }
   ],
   "source": [
    "matrix_generate(4, 4, type_ = \"symmetric\")"
   ]
  },
  {
   "cell_type": "code",
   "execution_count": 7,
   "metadata": {
    "colab": {
     "base_uri": "https://localhost:8080/"
    },
    "id": "l_UzDrb9JJzV",
    "outputId": "f42f49c9-bb1b-4046-9177-14ed1585d0c0"
   },
   "outputs": [
    {
     "data": {
      "text/plain": [
       "array([[0.95304109, 0.        , 0.        , 0.        ],\n",
       "       [0.        , 0.57338355, 0.        , 0.        ],\n",
       "       [0.        , 0.        , 0.25877529, 0.        ],\n",
       "       [0.        , 0.        , 0.        , 0.47810921]])"
      ]
     },
     "execution_count": 7,
     "metadata": {},
     "output_type": "execute_result"
    }
   ],
   "source": [
    "matrix_generate(4, 4, type_ = \"diagonal\")"
   ]
  },
  {
   "cell_type": "code",
   "execution_count": 8,
   "metadata": {
    "colab": {
     "base_uri": "https://localhost:8080/"
    },
    "id": "jMTefXcoJRw9",
    "outputId": "6729e78e-61d5-4ebb-99c9-5c99431f1f75"
   },
   "outputs": [
    {
     "data": {
      "text/plain": [
       "array([[0.36808379, 0.        , 0.        , 0.        ],\n",
       "       [0.38095561, 0.31731024, 0.        , 0.        ],\n",
       "       [0.96919144, 0.13856189, 0.61861   , 0.        ],\n",
       "       [0.01508507, 0.84505535, 0.80023656, 0.09623441]])"
      ]
     },
     "execution_count": 8,
     "metadata": {},
     "output_type": "execute_result"
    }
   ],
   "source": [
    "matrix_generate(4, 4, type_ = \"lower_triangular\")"
   ]
  },
  {
   "cell_type": "markdown",
   "metadata": {
    "id": "nE0sV_4ddd2-"
   },
   "source": [
    "Посчитаем вероятность получить вырожденную диагональную матрицу. Эта вероятность равна нулю."
   ]
  },
  {
   "cell_type": "markdown",
   "metadata": {
    "id": "-pUYzP7JNBzp"
   },
   "source": [
    "__Задание 2. Вычисление матричных норм и числа обусловленности.__\n",
    "\n",
    "Реализовать вычисление трех основных норм векторов (L1, L2 и максимальную) и подчиненных им матричных норм. Реализовать вычисление числа обусловленности.\n",
    "\n",
    "Примечание: для вычисления собственных значений можно использовать linalg.eigvals из модуля scipy."
   ]
  },
  {
   "cell_type": "code",
   "execution_count": 13,
   "metadata": {
    "id": "pMOX96x3Rfyw"
   },
   "outputs": [],
   "source": [
    "def NormVector(vector_, size, type_ = \"L_2\"):\n",
    "\n",
    "  NormVector = 0 #эта функция вычисляет норму вектора\n",
    "\n",
    "  if (type_ == \"L_1\"): #вычисление нормы L1\n",
    "\n",
    "    for i in range(size):\n",
    "\n",
    "      NormVector += abs(vector_[i])\n",
    "\n",
    "  elif (type_ == \"L_2\"): # Вычисление нормы L2\n",
    "\n",
    "    for i in range(size):\n",
    "\n",
    "      NormVector += vector_[i]**2\n",
    "    NormVector = NormVector**0.5\n",
    "\n",
    "  elif (type_ == \"max\"): # Вычисление максимальной нормы\n",
    "    for i in range(size):\n",
    "      if (NormVector < abs(vector_[i])):\n",
    "        NormVector = abs(vector_[i])\n",
    "\n",
    "  return NormVector\n",
    "\n",
    "def NormMatrix(matrix_, rows, columns, type_ = \"L_2\"):\n",
    "\n",
    "  NormMatrix = 0 #эта функция вычисляет норму матрицы, соответсвующих норм вектора\n",
    "\n",
    "  if (type_ == \"L_1\"): #максимальная сумма модулей элементов в столбце\n",
    "    time = 0\n",
    "    for j in range(columns):\n",
    "      for i in range(rows):\n",
    "        time += abs(matrix_[i,j])\n",
    "      if (time > NormMatrix):\n",
    "        NormMatrix = time\n",
    "      time = 0\n",
    "\n",
    "\n",
    "  elif (type_ == \"L_2\"): #\\sqrt(\\lambda (A^T A))\n",
    "    new = np.dot(matrix_.T, matrix_) #находим список собственных векторов произведения матрицы на транспонированную\n",
    "    lambds = np.linalg.eigvals(new) \n",
    "    NormMatrix = (max(lambds)) ** 0.5\n",
    "\n",
    "  elif (type_ == \"max\"): #максимальная сумма модулей элементов в строке\n",
    "    time = 0\n",
    "    for i in range(rows):\n",
    "      for j in range(columns):\n",
    "        time += abs(matrix_[i,j])\n",
    "      if (time > NormMatrix):\n",
    "        NormMatrix = time\n",
    "      time = 0\n",
    "\n",
    "\n",
    "  return NormMatrix"
   ]
  },
  {
   "cell_type": "code",
   "execution_count": 14,
   "metadata": {
    "colab": {
     "base_uri": "https://localhost:8080/"
    },
    "id": "S-lFFx3QPwef",
    "outputId": "153e03cd-1a71-47f2-e924-fc039c12a196"
   },
   "outputs": [
    {
     "name": "stdout",
     "output_type": "stream",
     "text": [
      "6.782329983125268\n",
      "10\n",
      "6\n"
     ]
    }
   ],
   "source": [
    "A = [1, 0, 3, -6] #проверяем NormVector\n",
    "print(NormVector(A, 4,\"L_2\"))\n",
    "print(NormVector(A, 4,\"L_1\"))\n",
    "print(NormVector(A, 4,\"max\"))"
   ]
  },
  {
   "cell_type": "code",
   "execution_count": 15,
   "metadata": {
    "colab": {
     "base_uri": "https://localhost:8080/"
    },
    "id": "bof9zfOTS4qC",
    "outputId": "8a1b899c-3536-41ae-d01e-8036a005a11e"
   },
   "outputs": [
    {
     "name": "stdout",
     "output_type": "stream",
     "text": [
      "2.0322986119948188\n",
      "2.9503945316254443\n",
      "1.8684669816513377\n"
     ]
    }
   ],
   "source": [
    "A = matrix_generate(4, 3) #проверяем NormMatrix\n",
    "print(NormMatrix(A, 4, 3, \"L_2\"))\n",
    "print(NormMatrix(A, 4, 3, \"L_1\"))\n",
    "print(NormMatrix(A, 4, 3, \"max\"))"
   ]
  },
  {
   "cell_type": "markdown",
   "metadata": {
    "id": "pFV2GwNhTkIA"
   },
   "source": [
    "Теперь реализуем вычисление числа обусловленности матрицы A"
   ]
  },
  {
   "cell_type": "code",
   "execution_count": 16,
   "metadata": {
    "id": "KrASZJV7T1VE"
   },
   "outputs": [],
   "source": [
    "def NumCon(matrix_, rows, columns, type_ = \"L_2\"):\n",
    "  NumCon = 0\n",
    "  if type_ == \"L_1\":\n",
    "    A_1 = np.linalg.inv(A) #обратная матрица\n",
    "    NormA = NormMatrix(A, rows, columns, \"L_2\") #норма матрицы для l2\n",
    "    NormA_1 = NormMatrix(A_1, rows, columns, \"L_2\") #норма обратной матрицы для L2\n",
    "    NumCon = NormA * NormA_1 #число обусловленности\n",
    "  elif type_ == \"L_1\":\n",
    "    A_1 = np.linalg.inv(A) #аналогично\n",
    "    NormA = NormMatrix(A, rows, columns, \"L_1\")\n",
    "    NormA_1 = NormMatrix(A_1, rows, columns, \"L_1\")\n",
    "    NumCon = NormA * NormA_1\n",
    "  elif type_ == \"max\":\n",
    "    A_1 = np.linalg.inv(A)\n",
    "    NormA = NormMatrix(A, rows, columns, \"max\")\n",
    "    NormA_1 = NormMatrix(A_1, rows, columns, \"max\")\n",
    "    NumCon = NormA * NormA_1\n",
    "  return NumCon"
   ]
  },
  {
   "cell_type": "code",
   "execution_count": 17,
   "metadata": {
    "colab": {
     "base_uri": "https://localhost:8080/"
    },
    "id": "1fjH0KO3W7Qh",
    "outputId": "ef7b9815-bfba-4482-91f0-111538b63a94"
   },
   "outputs": [
    {
     "name": "stdout",
     "output_type": "stream",
     "text": [
      "0\n",
      "104.86711112853251\n",
      "160.88863772074225\n"
     ]
    }
   ],
   "source": [
    "A = matrix_generate(3, 3) #проверяем NumCon\n",
    "print(NumCon(A, 3, 3, \"L_2\"))\n",
    "print(NumCon(A, 3, 3, \"L_1\"))\n",
    "print(NumCon(A, 3, 3, \"max\"))"
   ]
  },
  {
   "cell_type": "markdown",
   "metadata": {
    "id": "9w7ZU4C6YR4b"
   },
   "source": [
    "__Задание 3. Эквивалентность первых двух норм.__\n",
    "\n",
    "Найдите константы $C_1$  и  $C_2$ такие, что\n",
    "\n",
    "$\\ C_1||\\mathbf{x}||_2\\leq||\\mathbf{x}||_1\\leq C_2||\\mathbf{x}||_2$\n",
    "\n",
    "\n",
    "Указание: в качестве подсказки можно использовать визуализацию норм из документа с теорией."
   ]
  },
  {
   "cell_type": "markdown",
   "metadata": {
    "id": "Q96DQksgYnJc"
   },
   "source": [
    "Сначала найдем $C_2$ \\\\\n",
    "$$C_2 \\geq \\frac{||x||_1}{||x||_2} = \\frac{\\sum |x_i|}{(\\sum x_i^2)^{\\frac{1}{2}}} \\geq \\frac{\\sum |x|_{min}}{(\\sum x_{max}^2))^{\\frac{1}{2}}} = \\sqrt n \\frac{|x|_{min}}{|x|_{max}}$$\n"
   ]
  },
  {
   "cell_type": "markdown",
   "metadata": {
    "id": "jhXb-lJ0y-gk"
   },
   "source": [
    "Теперь найдем $C_1$ \\\\\n",
    "$$C_1 \\leq \\frac{||x||_1}{||x||_2} = \\frac{\\sum |x_i|}{(\\sum x_i^2)^{\\frac{1}{2}}} \\leq \\frac{\\sum |x|_{max}}{(\\sum x_{min}^2)^{\\frac{1}{2}}} = \\sqrt n \\frac{|x|_{max}}{|x|_{min}}$$"
   ]
  },
  {
   "cell_type": "markdown",
   "metadata": {
    "id": "x0yq23rh3ymu"
   },
   "source": [
    "__Задание 4. Евклидова и бесконечная норма.__\n",
    "\n",
    " Пусть x — вектор размерности m, а A — матрица m×n. Докажите следующие неравенства и приведите\n",
    "примеры таких x и A, при которых неравенства обращаются в равенства:\n",
    "\n",
    "- $\\|x\\|_2 \\leq \\sqrt{m} \\cdot \\|x\\|_{\\infty}$\n",
    "- $\\|A\\|_{\\infty} \\leq \\sqrt{n} \\cdot \\|A\\|_2$"
   ]
  },
  {
   "cell_type": "markdown",
   "metadata": {
    "id": "rbcDdDoI-2BJ"
   },
   "source": [
    "Докажем первое неравнество $\\|x\\|_2 \\leq \\sqrt{m} \\cdot \\|x\\|_{\\infty}$ \\\\\n",
    "$$||x||_2 = (\\sum x_i^2)^{\\frac{1}{2}} \\leq (\\sum x_{max}^2)^{\\frac{1}{2}} = (m*x_{max})^{\\frac{1}{2}} = \\sqrt m ||x||_{∞}$$"
   ]
  },
  {
   "cell_type": "markdown",
   "metadata": {
    "id": "hpgT6mwb_9Zm"
   },
   "source": [
    "Докажем второе неравенство $\\|A\\|_{\\infty} \\leq \\sqrt{n} \\cdot \\|A\\|_2$ \\\\\n",
    "$$$$ (неравенство Коши-Буняковского)\n",
    "\n",
    "$$ \\|A\\|_{\\infty} = \\max_i \\sum_j \\left| a_{ij} \\right| \\leq \\sqrt{\\sum_i \\left( \\sum_j \\left| a_{ij} \\right| \\right)^2} \\leq \\sqrt{n \\sum_i \\sum_j \\left| a_{ij} \\right|^2} = \\sqrt{n} \\cdot \\|A\\|_2 $$\r\n"
   ]
  },
  {
   "cell_type": "markdown",
   "metadata": {
    "id": "cJm_FPjsLNBw"
   },
   "source": [
    "__Задание 5.  Норма Фробениуса.__\n",
    "\n",
    "Докажите, что для любой унитарной матрицы U (и для произвольной матрицы A) имеет место равенство\n",
    "\n",
    " $\\| U A \\|_F = \\| AU \\|_F = \\| A \\|_F$ ,\n",
    "\n",
    " где $\\| \\cdot \\|_F$ — норма Фробениуса.\n",
    "\n",
    "Указание.  \n",
    "Задачу можно решить без вычислений, если использовать геометрический смысл нормы Фробениуса и геометрические свойства умножения на унитарную матрицу (что при умножении на неё сохраняется). \\\\\n",
    "\n",
    "Решение:\n",
    "\n",
    "(норма Фробениуса - корень из суммы квадратов всех элементов квадратной матрицы. \n",
    "Унитарная U U* = U* U= E, эрмитово U* - транспонированная + комплексно сопряженная)\n",
    "\n",
    "Рассмотрим мартрицу A как совокупность векторов-столбцов:\n",
    "$$A = (a_1, ... a_n)$$ \\\\\n",
    "Тогда $$||QA||_F^2 = ||Qa_1,...,Qa_n||_F^2 = ||(c_1, ..., c_n)||_F^2 = ∑ \\sum c_{ij}^2 = \\sum (c_i, c_i) = \\sum ||c_i||_2^2 = \\sum (a_i, a_i) =  ||A||_F^2$$ \\\\\n",
    "где $c_i = Qa_i$ и $||c_i||_2 = ||Qa_i|| = ||a_i||$, поскольку умножене ортогональной матрицы на вектор не меняет евклидову длину этого вектора.\n",
    "Теперь покажем, что сферическая норма матрицы не меняется и в результате умножения ее на ортогональную матрицу Q справа: \\\\\n",
    "$$||AQ||_F = ||(AQ)^T||_F = ||Q^TA^T||_F = ||A^T||_F = ||A||_F$$"
   ]
  },
  {
   "cell_type": "code",
   "execution_count": null,
   "metadata": {},
   "outputs": [],
   "source": []
  },
  {
   "cell_type": "code",
   "execution_count": null,
   "metadata": {},
   "outputs": [],
   "source": []
  }
 ],
 "metadata": {
  "colab": {
   "provenance": []
  },
  "kernelspec": {
   "display_name": "Python 3 (ipykernel)",
   "language": "python",
   "name": "python3"
  },
  "language_info": {
   "codemirror_mode": {
    "name": "ipython",
    "version": 3
   },
   "file_extension": ".py",
   "mimetype": "text/x-python",
   "name": "python",
   "nbconvert_exporter": "python",
   "pygments_lexer": "ipython3",
   "version": "3.10.11"
  }
 },
 "nbformat": 4,
 "nbformat_minor": 4
}
